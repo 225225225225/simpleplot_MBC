{
 "cells": [
  {
   "cell_type": "code",
   "execution_count": null,
   "id": "b870020d-0b9b-49a9-87e3-88b86292e1ce",
   "metadata": {},
   "outputs": [],
   "source": [
    "# Se eligió inicialmente a Indonesia, porque parecía interesante usar a un país compuesto de una infinidad de Islas\n",
    "# Sin embargo, luego me di cuenta de que no tenía ríos en el archivo que nos dieron, así que lo cambié por el Congo"
   ]
  },
  {
   "cell_type": "code",
   "execution_count": 1,
   "id": "38cdcc09-bfaf-435f-a2e2-97119c87b382",
   "metadata": {},
   "outputs": [],
   "source": [
    "# Primero se invoca a Geopandas\n",
    "import os, geopandas as gpd"
   ]
  },
  {
   "cell_type": "code",
   "execution_count": 3,
   "id": "e06a40e0-4c1f-44bc-aeb3-f680e7fc88ad",
   "metadata": {},
   "outputs": [],
   "source": [
    "# Después, se le hace leer a los archivos locales de countries, cities y rivers que se crearon en la carpeta maps\n",
    "countries=gpd.read_file(os.path.join(\"maps\",\"World_Countries\",\"World_Countries.shp\"))\n",
    "rivers=gpd.read_file(os.path.join(\"maps\",\"World_Hydrography\",\"World_Hydrography.shp\"))\n",
    "cities=gpd.read_file(os.path.join(\"maps\",\"World_Cities\",\"World_Cities.shp\"))"
   ]
  },
  {
   "cell_type": "code",
   "execution_count": 7,
   "id": "952419b5-9dbd-4ccc-a4af-4233aed2c9f8",
   "metadata": {},
   "outputs": [
    {
     "data": {
      "text/html": [
       "<div>\n",
       "<style scoped>\n",
       "    .dataframe tbody tr th:only-of-type {\n",
       "        vertical-align: middle;\n",
       "    }\n",
       "\n",
       "    .dataframe tbody tr th {\n",
       "        vertical-align: top;\n",
       "    }\n",
       "\n",
       "    .dataframe thead th {\n",
       "        text-align: right;\n",
       "    }\n",
       "</style>\n",
       "<table border=\"1\" class=\"dataframe\">\n",
       "  <thead>\n",
       "    <tr style=\"text-align: right;\">\n",
       "      <th></th>\n",
       "      <th>COUNTRY</th>\n",
       "      <th>geometry</th>\n",
       "    </tr>\n",
       "  </thead>\n",
       "  <tbody>\n",
       "    <tr>\n",
       "      <th>0</th>\n",
       "      <td>Aruba (Netherlands)</td>\n",
       "      <td>POLYGON ((-69.88223 12.41111, -69.94695 12.436...</td>\n",
       "    </tr>\n",
       "    <tr>\n",
       "      <th>1</th>\n",
       "      <td>Antigua and Barbuda</td>\n",
       "      <td>MULTIPOLYGON (((-61.73889 17.54055, -61.75195 ...</td>\n",
       "    </tr>\n",
       "    <tr>\n",
       "      <th>2</th>\n",
       "      <td>Afghanistan</td>\n",
       "      <td>POLYGON ((61.27656 35.60725, 61.29638 35.62853...</td>\n",
       "    </tr>\n",
       "    <tr>\n",
       "      <th>3</th>\n",
       "      <td>Algeria</td>\n",
       "      <td>POLYGON ((-5.15213 30.18047, -5.13917 30.19236...</td>\n",
       "    </tr>\n",
       "    <tr>\n",
       "      <th>4</th>\n",
       "      <td>Azerbaijan</td>\n",
       "      <td>MULTIPOLYGON (((46.54037 38.87559, 46.49554 38...</td>\n",
       "    </tr>\n",
       "    <tr>\n",
       "      <th>...</th>\n",
       "      <td>...</td>\n",
       "      <td>...</td>\n",
       "    </tr>\n",
       "    <tr>\n",
       "      <th>247</th>\n",
       "      <td>South Sudan</td>\n",
       "      <td>POLYGON ((34.21807 9.96458, 34.20722 9.90500, ...</td>\n",
       "    </tr>\n",
       "    <tr>\n",
       "      <th>248</th>\n",
       "      <td>Indonesia</td>\n",
       "      <td>MULTIPOLYGON (((123.21846 -10.80917, 123.19832...</td>\n",
       "    </tr>\n",
       "    <tr>\n",
       "      <th>249</th>\n",
       "      <td>East Timor</td>\n",
       "      <td>MULTIPOLYGON (((124.41824 -9.30010, 124.40446 ...</td>\n",
       "    </tr>\n",
       "    <tr>\n",
       "      <th>250</th>\n",
       "      <td>Curacao (Netherlands)</td>\n",
       "      <td>POLYGON ((-68.96556 12.19889, -68.91196 12.181...</td>\n",
       "    </tr>\n",
       "    <tr>\n",
       "      <th>251</th>\n",
       "      <td>Bonaire (Netherlands)</td>\n",
       "      <td>POLYGON ((-68.19736 12.22264, -68.19292 12.207...</td>\n",
       "    </tr>\n",
       "  </tbody>\n",
       "</table>\n",
       "<p>252 rows × 2 columns</p>\n",
       "</div>"
      ],
      "text/plain": [
       "                   COUNTRY                                           geometry\n",
       "0      Aruba (Netherlands)  POLYGON ((-69.88223 12.41111, -69.94695 12.436...\n",
       "1      Antigua and Barbuda  MULTIPOLYGON (((-61.73889 17.54055, -61.75195 ...\n",
       "2              Afghanistan  POLYGON ((61.27656 35.60725, 61.29638 35.62853...\n",
       "3                  Algeria  POLYGON ((-5.15213 30.18047, -5.13917 30.19236...\n",
       "4               Azerbaijan  MULTIPOLYGON (((46.54037 38.87559, 46.49554 38...\n",
       "..                     ...                                                ...\n",
       "247            South Sudan  POLYGON ((34.21807 9.96458, 34.20722 9.90500, ...\n",
       "248              Indonesia  MULTIPOLYGON (((123.21846 -10.80917, 123.19832...\n",
       "249             East Timor  MULTIPOLYGON (((124.41824 -9.30010, 124.40446 ...\n",
       "250  Curacao (Netherlands)  POLYGON ((-68.96556 12.19889, -68.91196 12.181...\n",
       "251  Bonaire (Netherlands)  POLYGON ((-68.19736 12.22264, -68.19292 12.207...\n",
       "\n",
       "[252 rows x 2 columns]"
      ]
     },
     "execution_count": 7,
     "metadata": {},
     "output_type": "execute_result"
    }
   ],
   "source": [
    "# Se revisan\n",
    "countries"
   ]
  },
  {
   "cell_type": "code",
   "execution_count": 8,
   "id": "f28e9596-38a3-4031-a593-3949e587bcc2",
   "metadata": {},
   "outputs": [
    {
     "data": {
      "text/html": [
       "<div>\n",
       "<style scoped>\n",
       "    .dataframe tbody tr th:only-of-type {\n",
       "        vertical-align: middle;\n",
       "    }\n",
       "\n",
       "    .dataframe tbody tr th {\n",
       "        vertical-align: top;\n",
       "    }\n",
       "\n",
       "    .dataframe thead th {\n",
       "        text-align: right;\n",
       "    }\n",
       "</style>\n",
       "<table border=\"1\" class=\"dataframe\">\n",
       "  <thead>\n",
       "    <tr style=\"text-align: right;\">\n",
       "      <th></th>\n",
       "      <th>NAME</th>\n",
       "      <th>COUNTRY</th>\n",
       "      <th>CAPITAL</th>\n",
       "      <th>geometry</th>\n",
       "    </tr>\n",
       "  </thead>\n",
       "  <tbody>\n",
       "    <tr>\n",
       "      <th>0</th>\n",
       "      <td>Murmansk</td>\n",
       "      <td>Russia</td>\n",
       "      <td>N</td>\n",
       "      <td>POINT (33.08604 68.96355)</td>\n",
       "    </tr>\n",
       "    <tr>\n",
       "      <th>1</th>\n",
       "      <td>Arkhangelsk</td>\n",
       "      <td>Russia</td>\n",
       "      <td>N</td>\n",
       "      <td>POINT (40.64616 64.52067)</td>\n",
       "    </tr>\n",
       "    <tr>\n",
       "      <th>2</th>\n",
       "      <td>Saint Petersburg</td>\n",
       "      <td>Russia</td>\n",
       "      <td>N</td>\n",
       "      <td>POINT (30.45333 59.95189)</td>\n",
       "    </tr>\n",
       "    <tr>\n",
       "      <th>3</th>\n",
       "      <td>Magadan</td>\n",
       "      <td>Russia</td>\n",
       "      <td>N</td>\n",
       "      <td>POINT (150.78001 59.57100)</td>\n",
       "    </tr>\n",
       "    <tr>\n",
       "      <th>4</th>\n",
       "      <td>Perm'</td>\n",
       "      <td>Russia</td>\n",
       "      <td>N</td>\n",
       "      <td>POINT (56.23246 58.00024)</td>\n",
       "    </tr>\n",
       "    <tr>\n",
       "      <th>...</th>\n",
       "      <td>...</td>\n",
       "      <td>...</td>\n",
       "      <td>...</td>\n",
       "      <td>...</td>\n",
       "    </tr>\n",
       "    <tr>\n",
       "      <th>605</th>\n",
       "      <td>Singapore</td>\n",
       "      <td>Singapore</td>\n",
       "      <td>N</td>\n",
       "      <td>POINT (103.82688 1.34654)</td>\n",
       "    </tr>\n",
       "    <tr>\n",
       "      <th>606</th>\n",
       "      <td>Gaza</td>\n",
       "      <td>Palestine</td>\n",
       "      <td>N</td>\n",
       "      <td>POINT (34.41939 31.46288)</td>\n",
       "    </tr>\n",
       "    <tr>\n",
       "      <th>607</th>\n",
       "      <td>Juba</td>\n",
       "      <td>South Sudan</td>\n",
       "      <td>Y</td>\n",
       "      <td>POINT (31.76671 4.57511)</td>\n",
       "    </tr>\n",
       "    <tr>\n",
       "      <th>608</th>\n",
       "      <td>Dili</td>\n",
       "      <td>East Timor</td>\n",
       "      <td>Y</td>\n",
       "      <td>POINT (125.67275 -8.56601)</td>\n",
       "    </tr>\n",
       "    <tr>\n",
       "      <th>609</th>\n",
       "      <td>Abuja</td>\n",
       "      <td>Nigeria</td>\n",
       "      <td>Y</td>\n",
       "      <td>POINT (7.45338 9.22675)</td>\n",
       "    </tr>\n",
       "  </tbody>\n",
       "</table>\n",
       "<p>610 rows × 4 columns</p>\n",
       "</div>"
      ],
      "text/plain": [
       "                 NAME      COUNTRY CAPITAL                    geometry\n",
       "0            Murmansk       Russia       N   POINT (33.08604 68.96355)\n",
       "1         Arkhangelsk       Russia       N   POINT (40.64616 64.52067)\n",
       "2    Saint Petersburg       Russia       N   POINT (30.45333 59.95189)\n",
       "3             Magadan       Russia       N  POINT (150.78001 59.57100)\n",
       "4               Perm'       Russia       N   POINT (56.23246 58.00024)\n",
       "..                ...          ...     ...                         ...\n",
       "605         Singapore    Singapore       N   POINT (103.82688 1.34654)\n",
       "606              Gaza    Palestine       N   POINT (34.41939 31.46288)\n",
       "607              Juba  South Sudan       Y    POINT (31.76671 4.57511)\n",
       "608              Dili   East Timor       Y  POINT (125.67275 -8.56601)\n",
       "609             Abuja      Nigeria       Y     POINT (7.45338 9.22675)\n",
       "\n",
       "[610 rows x 4 columns]"
      ]
     },
     "execution_count": 8,
     "metadata": {},
     "output_type": "execute_result"
    }
   ],
   "source": [
    "# Se revisan\n",
    "cities"
   ]
  },
  {
   "cell_type": "code",
   "execution_count": 9,
   "id": "5c14a35a-0f5e-4401-8070-37e3dd3ac97b",
   "metadata": {},
   "outputs": [
    {
     "data": {
      "text/html": [
       "<div>\n",
       "<style scoped>\n",
       "    .dataframe tbody tr th:only-of-type {\n",
       "        vertical-align: middle;\n",
       "    }\n",
       "\n",
       "    .dataframe tbody tr th {\n",
       "        vertical-align: top;\n",
       "    }\n",
       "\n",
       "    .dataframe thead th {\n",
       "        text-align: right;\n",
       "    }\n",
       "</style>\n",
       "<table border=\"1\" class=\"dataframe\">\n",
       "  <thead>\n",
       "    <tr style=\"text-align: right;\">\n",
       "      <th></th>\n",
       "      <th>NAME</th>\n",
       "      <th>SYSTEM</th>\n",
       "      <th>geometry</th>\n",
       "    </tr>\n",
       "  </thead>\n",
       "  <tbody>\n",
       "    <tr>\n",
       "      <th>0</th>\n",
       "      <td>Aldan</td>\n",
       "      <td>Lena</td>\n",
       "      <td>LINESTRING (124.00678 56.47258, 123.25956 56.6...</td>\n",
       "    </tr>\n",
       "    <tr>\n",
       "      <th>1</th>\n",
       "      <td>Amazon</td>\n",
       "      <td>Amazon</td>\n",
       "      <td>MULTILINESTRING ((-61.27730 -3.60706, -60.6846...</td>\n",
       "    </tr>\n",
       "    <tr>\n",
       "      <th>2</th>\n",
       "      <td>Amu Darya</td>\n",
       "      <td>None</td>\n",
       "      <td>LINESTRING (73.98818 37.49952, 73.52595 37.528...</td>\n",
       "    </tr>\n",
       "    <tr>\n",
       "      <th>3</th>\n",
       "      <td>Amur</td>\n",
       "      <td>None</td>\n",
       "      <td>LINESTRING (122.63956 49.99730, 120.47874 49.2...</td>\n",
       "    </tr>\n",
       "    <tr>\n",
       "      <th>4</th>\n",
       "      <td>Angara</td>\n",
       "      <td>None</td>\n",
       "      <td>LINESTRING (105.07841 51.93053, 103.92959 51.7...</td>\n",
       "    </tr>\n",
       "    <tr>\n",
       "      <th>...</th>\n",
       "      <td>...</td>\n",
       "      <td>...</td>\n",
       "      <td>...</td>\n",
       "    </tr>\n",
       "    <tr>\n",
       "      <th>93</th>\n",
       "      <td>Yangtze</td>\n",
       "      <td>None</td>\n",
       "      <td>MULTILINESTRING ((119.82609 32.24864, 118.9707...</td>\n",
       "    </tr>\n",
       "    <tr>\n",
       "      <th>94</th>\n",
       "      <td>Yenisey</td>\n",
       "      <td>None</td>\n",
       "      <td>MULTILINESTRING ((98.94706 52.57675, 98.12095 ...</td>\n",
       "    </tr>\n",
       "    <tr>\n",
       "      <th>95</th>\n",
       "      <td>Yukon</td>\n",
       "      <td>None</td>\n",
       "      <td>LINESTRING (-130.89319 59.24480, -131.06570 59...</td>\n",
       "    </tr>\n",
       "    <tr>\n",
       "      <th>96</th>\n",
       "      <td>Zambezi</td>\n",
       "      <td>None</td>\n",
       "      <td>MULTILINESTRING ((35.52866 -17.66773, 36.28055...</td>\n",
       "    </tr>\n",
       "    <tr>\n",
       "      <th>97</th>\n",
       "      <td>Rio Grande, South America</td>\n",
       "      <td>Parana</td>\n",
       "      <td>LINESTRING (-44.37152 -22.17241, -43.86097 -21...</td>\n",
       "    </tr>\n",
       "  </tbody>\n",
       "</table>\n",
       "<p>98 rows × 3 columns</p>\n",
       "</div>"
      ],
      "text/plain": [
       "                         NAME  SYSTEM  \\\n",
       "0                       Aldan    Lena   \n",
       "1                      Amazon  Amazon   \n",
       "2                   Amu Darya    None   \n",
       "3                        Amur    None   \n",
       "4                      Angara    None   \n",
       "..                        ...     ...   \n",
       "93                    Yangtze    None   \n",
       "94                    Yenisey    None   \n",
       "95                      Yukon    None   \n",
       "96                    Zambezi    None   \n",
       "97  Rio Grande, South America  Parana   \n",
       "\n",
       "                                             geometry  \n",
       "0   LINESTRING (124.00678 56.47258, 123.25956 56.6...  \n",
       "1   MULTILINESTRING ((-61.27730 -3.60706, -60.6846...  \n",
       "2   LINESTRING (73.98818 37.49952, 73.52595 37.528...  \n",
       "3   LINESTRING (122.63956 49.99730, 120.47874 49.2...  \n",
       "4   LINESTRING (105.07841 51.93053, 103.92959 51.7...  \n",
       "..                                                ...  \n",
       "93  MULTILINESTRING ((119.82609 32.24864, 118.9707...  \n",
       "94  MULTILINESTRING ((98.94706 52.57675, 98.12095 ...  \n",
       "95  LINESTRING (-130.89319 59.24480, -131.06570 59...  \n",
       "96  MULTILINESTRING ((35.52866 -17.66773, 36.28055...  \n",
       "97  LINESTRING (-44.37152 -22.17241, -43.86097 -21...  \n",
       "\n",
       "[98 rows x 3 columns]"
      ]
     },
     "execution_count": 9,
     "metadata": {},
     "output_type": "execute_result"
    }
   ],
   "source": [
    "# Se revisan\n",
    "rivers"
   ]
  },
  {
   "cell_type": "code",
   "execution_count": 11,
   "id": "3de5f7aa-30b2-42b5-91a2-ff54e93c1be1",
   "metadata": {},
   "outputs": [],
   "source": [
    "# Ahora, se plotean"
   ]
  },
  {
   "cell_type": "code",
   "execution_count": 19,
   "id": "c3f19520-2468-41fc-9767-f899d3469bed",
   "metadata": {},
   "outputs": [
    {
     "data": {
      "text/plain": [
       "<Axes: >"
      ]
     },
     "execution_count": 19,
     "metadata": {},
     "output_type": "execute_result"
    },
    {
     "data": {
      "image/png": "[encoded data removed]",
      "text/plain": [
       "<Figure size 864x864 with 1 Axes>"
      ]
     },
     "metadata": {
      "needs_background": "light"
     },
     "output_type": "display_data"
    }
   ],
   "source": [
    "countries.plot(facecolor=\"white\", edgecolor='black', linewidth=0.1,figsize=(12,12))"
   ]
  },
  {
   "cell_type": "code",
   "execution_count": 23,
   "id": "0ca2e502-b67a-4c12-a3c2-fd72da2fcbed",
   "metadata": {},
   "outputs": [
    {
     "data": {
      "text/plain": [
       "<Axes: >"
      ]
     },
     "execution_count": 23,
     "metadata": {},
     "output_type": "execute_result"
    },
    {
     "data": {
      "image/png": "[encoded data removed]",
      "text/plain": [
       "<Figure size 432x288 with 1 Axes>"
      ]
     },
     "metadata": {
      "needs_background": "light"
     },
     "output_type": "display_data"
    }
   ],
   "source": [
    "cities.plot(marker='.', color='black', markersize=1, alpha=0.3)"
   ]
  },
  {
   "cell_type": "code",
   "execution_count": 24,
   "id": "3860250b-b3c0-4997-8e1b-f7300606a696",
   "metadata": {},
   "outputs": [
    {
     "data": {
      "text/plain": [
       "<Axes: >"
      ]
     },
     "execution_count": 24,
     "metadata": {},
     "output_type": "execute_result"
    },
    {
     "data": {
      "image/png": "[encoded data removed]",
      "text/plain": [
       "<Figure size 432x288 with 1 Axes>"
      ]
     },
     "metadata": {
      "needs_background": "light"
     },
     "output_type": "display_data"
    }
   ],
   "source": [
    "rivers.plot(edgecolor='blue', linewidth=1, linestyle='dotted')"
   ]
  },
  {
   "cell_type": "code",
   "execution_count": 15,
   "id": "0929b90f-4e32-475b-b080-2c314afe6fe0",
   "metadata": {},
   "outputs": [],
   "source": [
    "# Se revisa que todos tengan la misma proyección"
   ]
  },
  {
   "cell_type": "code",
   "execution_count": 16,
   "id": "c7476d66-fd83-4331-8062-f3a54ea5f107",
   "metadata": {},
   "outputs": [
    {
     "data": {
      "text/plain": [
       "<Geographic 2D CRS: EPSG:4326>\n",
       "Name: WGS 84\n",
       "Axis Info [ellipsoidal]:\n",
       "- Lat[north]: Geodetic latitude (degree)\n",
       "- Lon[east]: Geodetic longitude (degree)\n",
       "Area of Use:\n",
       "- name: World.\n",
       "- bounds: (-180.0, -90.0, 180.0, 90.0)\n",
       "Datum: World Geodetic System 1984 ensemble\n",
       "- Ellipsoid: WGS 84\n",
       "- Prime Meridian: Greenwich"
      ]
     },
     "execution_count": 16,
     "metadata": {},
     "output_type": "execute_result"
    }
   ],
   "source": [
    "countries.crs"
   ]
  },
  {
   "cell_type": "code",
   "execution_count": 17,
   "id": "4f67bc15-87f3-4e20-996b-824c94b812fe",
   "metadata": {},
   "outputs": [
    {
     "data": {
      "text/plain": [
       "<Geographic 2D CRS: EPSG:4326>\n",
       "Name: WGS 84\n",
       "Axis Info [ellipsoidal]:\n",
       "- Lat[north]: Geodetic latitude (degree)\n",
       "- Lon[east]: Geodetic longitude (degree)\n",
       "Area of Use:\n",
       "- name: World.\n",
       "- bounds: (-180.0, -90.0, 180.0, 90.0)\n",
       "Datum: World Geodetic System 1984 ensemble\n",
       "- Ellipsoid: WGS 84\n",
       "- Prime Meridian: Greenwich"
      ]
     },
     "execution_count": 17,
     "metadata": {},
     "output_type": "execute_result"
    }
   ],
   "source": [
    "cities.crs"
   ]
  },
  {
   "cell_type": "code",
   "execution_count": 18,
   "id": "e9fc25e0-8cf1-4391-8680-7cf48492cb3e",
   "metadata": {},
   "outputs": [
    {
     "data": {
      "text/plain": [
       "<Geographic 2D CRS: EPSG:4326>\n",
       "Name: WGS 84\n",
       "Axis Info [ellipsoidal]:\n",
       "- Lat[north]: Geodetic latitude (degree)\n",
       "- Lon[east]: Geodetic longitude (degree)\n",
       "Area of Use:\n",
       "- name: World.\n",
       "- bounds: (-180.0, -90.0, 180.0, 90.0)\n",
       "Datum: World Geodetic System 1984 ensemble\n",
       "- Ellipsoid: WGS 84\n",
       "- Prime Meridian: Greenwich"
      ]
     },
     "execution_count": 18,
     "metadata": {},
     "output_type": "execute_result"
    }
   ],
   "source": [
    "rivers.crs"
   ]
  },
  {
   "cell_type": "code",
   "execution_count": 25,
   "id": "d60e30a4-cac2-49ca-b958-705b6bd3f0d3",
   "metadata": {},
   "outputs": [],
   "source": [
    "# Parece que sí, entonces se procede a procesarlos"
   ]
  },
  {
   "cell_type": "code",
   "execution_count": 26,
   "id": "b750a941-5840-4310-983b-cbe8b2ef72d4",
   "metadata": {},
   "outputs": [
    {
     "data": {
      "text/html": [
       "<div>\n",
       "<style scoped>\n",
       "    .dataframe tbody tr th:only-of-type {\n",
       "        vertical-align: middle;\n",
       "    }\n",
       "\n",
       "    .dataframe tbody tr th {\n",
       "        vertical-align: top;\n",
       "    }\n",
       "\n",
       "    .dataframe thead th {\n",
       "        text-align: right;\n",
       "    }\n",
       "</style>\n",
       "<table border=\"1\" class=\"dataframe\">\n",
       "  <thead>\n",
       "    <tr style=\"text-align: right;\">\n",
       "      <th></th>\n",
       "      <th>COUNTRY</th>\n",
       "      <th>geometry</th>\n",
       "    </tr>\n",
       "  </thead>\n",
       "  <tbody>\n",
       "    <tr>\n",
       "      <th>39</th>\n",
       "      <td>Congo</td>\n",
       "      <td>POLYGON ((15.89050 -3.94301, 15.88028 -3.95111...</td>\n",
       "    </tr>\n",
       "    <tr>\n",
       "      <th>40</th>\n",
       "      <td>Democratic Republic of the Congo</td>\n",
       "      <td>POLYGON ((16.10007 -5.85937, 15.92833 -5.86139...</td>\n",
       "    </tr>\n",
       "  </tbody>\n",
       "</table>\n",
       "</div>"
      ],
      "text/plain": [
       "                             COUNTRY  \\\n",
       "39                             Congo   \n",
       "40  Democratic Republic of the Congo   \n",
       "\n",
       "                                             geometry  \n",
       "39  POLYGON ((15.89050 -3.94301, 15.88028 -3.95111...  \n",
       "40  POLYGON ((16.10007 -5.85937, 15.92833 -5.86139...  "
      ]
     },
     "execution_count": 26,
     "metadata": {},
     "output_type": "execute_result"
    }
   ],
   "source": [
    "# En mi caso, como elegí al congo y hay dos países que se contienen esta palabra en su nombre, hay que averiguar cómo se llaman \n",
    "# para cada gdf\n",
    "# para países\n",
    "countries[countries['COUNTRY'].str.contains('Congo', regex=False, case=False, na=False)]"
   ]
  },
  {
   "cell_type": "code",
   "execution_count": 27,
   "id": "64a6b271-59f5-4893-b60d-2a67858f0c96",
   "metadata": {},
   "outputs": [
    {
     "data": {
      "text/html": [
       "<div>\n",
       "<style scoped>\n",
       "    .dataframe tbody tr th:only-of-type {\n",
       "        vertical-align: middle;\n",
       "    }\n",
       "\n",
       "    .dataframe tbody tr th {\n",
       "        vertical-align: top;\n",
       "    }\n",
       "\n",
       "    .dataframe thead th {\n",
       "        text-align: right;\n",
       "    }\n",
       "</style>\n",
       "<table border=\"1\" class=\"dataframe\">\n",
       "  <thead>\n",
       "    <tr style=\"text-align: right;\">\n",
       "      <th></th>\n",
       "      <th>NAME</th>\n",
       "      <th>COUNTRY</th>\n",
       "      <th>CAPITAL</th>\n",
       "      <th>geometry</th>\n",
       "    </tr>\n",
       "  </thead>\n",
       "  <tbody>\n",
       "    <tr>\n",
       "      <th>258</th>\n",
       "      <td>Kisangani</td>\n",
       "      <td>DR Congo</td>\n",
       "      <td>N</td>\n",
       "      <td>POINT (25.19615 0.51928)</td>\n",
       "    </tr>\n",
       "    <tr>\n",
       "      <th>262</th>\n",
       "      <td>Brazzaville</td>\n",
       "      <td>Congo</td>\n",
       "      <td>Y</td>\n",
       "      <td>POINT (15.28515 -4.28519)</td>\n",
       "    </tr>\n",
       "    <tr>\n",
       "      <th>263</th>\n",
       "      <td>Kananga</td>\n",
       "      <td>DR Congo</td>\n",
       "      <td>N</td>\n",
       "      <td>POINT (22.40278 -5.89221)</td>\n",
       "    </tr>\n",
       "    <tr>\n",
       "      <th>313</th>\n",
       "      <td>Kinshasa</td>\n",
       "      <td>DR Congo</td>\n",
       "      <td>Y</td>\n",
       "      <td>POINT (15.46929 -4.38867)</td>\n",
       "    </tr>\n",
       "    <tr>\n",
       "      <th>344</th>\n",
       "      <td>Matadi</td>\n",
       "      <td>DR Congo</td>\n",
       "      <td>N</td>\n",
       "      <td>POINT (13.45000 -5.81000)</td>\n",
       "    </tr>\n",
       "    <tr>\n",
       "      <th>348</th>\n",
       "      <td>Kahemba</td>\n",
       "      <td>DR Congo</td>\n",
       "      <td>N</td>\n",
       "      <td>POINT (19.00000 -7.33000)</td>\n",
       "    </tr>\n",
       "    <tr>\n",
       "      <th>395</th>\n",
       "      <td>Mbandaka</td>\n",
       "      <td>DR Congo</td>\n",
       "      <td>N</td>\n",
       "      <td>POINT (18.46000 0.05000)</td>\n",
       "    </tr>\n",
       "    <tr>\n",
       "      <th>459</th>\n",
       "      <td>Pointe Noire</td>\n",
       "      <td>Congo</td>\n",
       "      <td>N</td>\n",
       "      <td>POINT (12.05809 -4.63871)</td>\n",
       "    </tr>\n",
       "    <tr>\n",
       "      <th>535</th>\n",
       "      <td>Lumumbashi</td>\n",
       "      <td>DR Congo</td>\n",
       "      <td>N</td>\n",
       "      <td>POINT (27.55000 -11.68000)</td>\n",
       "    </tr>\n",
       "  </tbody>\n",
       "</table>\n",
       "</div>"
      ],
      "text/plain": [
       "             NAME   COUNTRY CAPITAL                    geometry\n",
       "258     Kisangani  DR Congo       N    POINT (25.19615 0.51928)\n",
       "262   Brazzaville     Congo       Y   POINT (15.28515 -4.28519)\n",
       "263       Kananga  DR Congo       N   POINT (22.40278 -5.89221)\n",
       "313      Kinshasa  DR Congo       Y   POINT (15.46929 -4.38867)\n",
       "344        Matadi  DR Congo       N   POINT (13.45000 -5.81000)\n",
       "348       Kahemba  DR Congo       N   POINT (19.00000 -7.33000)\n",
       "395      Mbandaka  DR Congo       N    POINT (18.46000 0.05000)\n",
       "459  Pointe Noire     Congo       N   POINT (12.05809 -4.63871)\n",
       "535    Lumumbashi  DR Congo       N  POINT (27.55000 -11.68000)"
      ]
     },
     "execution_count": 27,
     "metadata": {},
     "output_type": "execute_result"
    }
   ],
   "source": [
    "# para ciudades\n",
    "cities[cities['COUNTRY'].str.contains('Congo', regex=False, case=False, na=False)]"
   ]
  },
  {
   "cell_type": "code",
   "execution_count": 28,
   "id": "f7a3945b-25c8-475e-bce8-c5a7510d1cf8",
   "metadata": {},
   "outputs": [],
   "source": [
    "## Curioso, en uno de los archivos el país se llama 'Democratic Republic of the Congo' y en el otro 'DR Congo'"
   ]
  },
  {
   "cell_type": "code",
   "execution_count": 29,
   "id": "1baba4ba-f594-42ee-9a76-23a8c6e6298e",
   "metadata": {},
   "outputs": [],
   "source": [
    "# Primero, se recorta el mapa de countries\n",
    "CongoDR=countries[countries.COUNTRY=='Democratic Republic of the Congo']"
   ]
  },
  {
   "cell_type": "code",
   "execution_count": 30,
   "id": "ba3e6be3-3da0-4b9b-b1f8-083d46d5f04a",
   "metadata": {},
   "outputs": [
    {
     "data": {
      "text/plain": [
       "<Axes: >"
      ]
     },
     "execution_count": 30,
     "metadata": {},
     "output_type": "execute_result"
    },
    {
     "data": {
      "image/png": "[encoded data removed]",
      "text/plain": [
       "<Figure size 432x288 with 1 Axes>"
      ]
     },
     "metadata": {
      "needs_background": "light"
     },
     "output_type": "display_data"
    }
   ],
   "source": [
    "CongoDR.plot()"
   ]
  },
  {
   "cell_type": "code",
   "execution_count": 31,
   "id": "13df82b3-f343-4341-a5df-cc04e15c646e",
   "metadata": {},
   "outputs": [],
   "source": [
    "# Después, las ciudades, pero con el otro nombre\n",
    "cities_DRC=cities[cities.COUNTRY=='DR Congo']"
   ]
  },
  {
   "cell_type": "code",
   "execution_count": 32,
   "id": "d355f7df-8e69-4b24-b320-cf31054e0921",
   "metadata": {},
   "outputs": [
    {
     "data": {
      "text/plain": [
       "<Axes: >"
      ]
     },
     "execution_count": 32,
     "metadata": {},
     "output_type": "execute_result"
    },
    {
     "data": {
      "image/png": "[encoded data removed]",
      "text/plain": [
       "<Figure size 432x288 with 1 Axes>"
      ]
     },
     "metadata": {
      "needs_background": "light"
     },
     "output_type": "display_data"
    }
   ],
   "source": [
    "cities_DRC.plot()"
   ]
  },
  {
   "cell_type": "code",
   "execution_count": 33,
   "id": "471be9e5-224e-49a0-85d7-2722fedba148",
   "metadata": {},
   "outputs": [],
   "source": [
    "# Para el caso de los ríos, hay que clippear el mapa para que concuerde con la parte recortada que se preparó previamente\n",
    "rivers_DRC = gpd.clip(gdf=rivers, mask=CongoDR)"
   ]
  },
  {
   "cell_type": "code",
   "execution_count": 34,
   "id": "56357220-b953-4531-860f-c36f7a6d418d",
   "metadata": {},
   "outputs": [
    {
     "data": {
      "text/plain": [
       "<Axes: >"
      ]
     },
     "execution_count": 34,
     "metadata": {},
     "output_type": "execute_result"
    },
    {
     "data": {
      "image/png": "[encoded data removed]",
      "text/plain": [
       "<Figure size 432x288 with 1 Axes>"
      ]
     },
     "metadata": {
      "needs_background": "light"
     },
     "output_type": "display_data"
    }
   ],
   "source": [
    "rivers_DRC.plot()"
   ]
  },
  {
   "cell_type": "code",
   "execution_count": 35,
   "id": "a1ed9dde-1b2f-4b2f-8f2a-56aea4a9674d",
   "metadata": {},
   "outputs": [
    {
     "data": {
      "text/plain": [
       "<Axes: >"
      ]
     },
     "execution_count": 35,
     "metadata": {},
     "output_type": "execute_result"
    },
    {
     "data": {
      "image/png": "[encoded data removed]",
      "text/plain": [
       "<Figure size 360x360 with 1 Axes>"
      ]
     },
     "metadata": {
      "needs_background": "light"
     },
     "output_type": "display_data"
    }
   ],
   "source": [
    "# Ahora, se une todo\n",
    "base = CongoDR.plot(facecolor=\"red\", edgecolor='black', linewidth=0.4,figsize=(5,5))\n",
    "cities_DRC.plot(marker='+', color='black', markersize=15,ax=base)\n",
    "rivers_DRC.plot(edgecolor='blue', linewidth=0.5,ax=base)"
   ]
  },
  {
   "cell_type": "code",
   "execution_count": 36,
   "id": "66e2b0ec-b3c0-4c7d-a482-d570b2f7c5f4",
   "metadata": {},
   "outputs": [],
   "source": [
    "# Para el mapa interactivo, primero se necesitan las coordenadas\n",
    "# Se obtuvieron de aquí: https://www.geodatos.net/en/coordinates/democratic-republic-of-the-congo\n",
    "CongoDR_Coord=[-4.038333, 21.758664]"
   ]
  },
  {
   "cell_type": "code",
   "execution_count": 41,
   "id": "b21b9955-7422-4966-b11e-7f9dccabcb6e",
   "metadata": {},
   "outputs": [
    {
     "data": {
      "text/html": [
       "<div style=\"width:100%;\"><div style=\"position:relative;width:100%;height:0;padding-bottom:60%;\"><span style=\"color:#565656\">Make this Notebook Trusted to load map: File -> Trust Notebook</span><iframe srcdoc=\"&lt;!DOCTYPE html&gt;\n",
       "&lt;html&gt;\n",
       "&lt;head&gt;\n",
       "    \n",
       "    &lt;meta http-equiv=&quot;content-type&quot; content=&quot;text/html; charset=UTF-8&quot; /&gt;\n",
       "    \n",
       "        &lt;script&gt;\n",
       "            L_NO_TOUCH = false;\n",
       "            L_DISABLE_3D = false;\n",
       "        &lt;/script&gt;\n",
       "    \n",
       "    &lt;style&gt;html, body {width: 100%;height: 100%;margin: 0;padding: 0;}&lt;/style&gt;\n",
       "    &lt;style&gt;#map {position:absolute;top:0;bottom:0;right:0;left:0;}&lt;/style&gt;\n",
       "    &lt;script src=&quot;https://cdn.jsdelivr.net/npm/leaflet@1.9.3/dist/leaflet.js&quot;&gt;&lt;/script&gt;\n",
       "    &lt;script src=&quot;https://code.jquery.com/jquery-1.12.4.min.js&quot;&gt;&lt;/script&gt;\n",
       "    &lt;script src=&quot;https://cdn.jsdelivr.net/npm/bootstrap@5.2.2/dist/js/bootstrap.bundle.min.js&quot;&gt;&lt;/script&gt;\n",
       "    &lt;script src=&quot;https://cdnjs.cloudflare.com/ajax/libs/Leaflet.awesome-markers/2.0.2/leaflet.awesome-markers.js&quot;&gt;&lt;/script&gt;\n",
       "    &lt;link rel=&quot;stylesheet&quot; href=&quot;https://cdn.jsdelivr.net/npm/leaflet@1.9.3/dist/leaflet.css&quot;/&gt;\n",
       "    &lt;link rel=&quot;stylesheet&quot; href=&quot;https://cdn.jsdelivr.net/npm/bootstrap@5.2.2/dist/css/bootstrap.min.css&quot;/&gt;\n",
       "    &lt;link rel=&quot;stylesheet&quot; href=&quot;https://netdna.bootstrapcdn.com/bootstrap/3.0.0/css/bootstrap.min.css&quot;/&gt;\n",
       "    &lt;link rel=&quot;stylesheet&quot; href=&quot;https://cdn.jsdelivr.net/npm/@fortawesome/fontawesome-free@6.2.0/css/all.min.css&quot;/&gt;\n",
       "    &lt;link rel=&quot;stylesheet&quot; href=&quot;https://cdnjs.cloudflare.com/ajax/libs/Leaflet.awesome-markers/2.0.2/leaflet.awesome-markers.css&quot;/&gt;\n",
       "    &lt;link rel=&quot;stylesheet&quot; href=&quot;https://cdn.jsdelivr.net/gh/python-visualization/folium/folium/templates/leaflet.awesome.rotate.min.css&quot;/&gt;\n",
       "    \n",
       "            &lt;meta name=&quot;viewport&quot; content=&quot;width=device-width,\n",
       "                initial-scale=1.0, maximum-scale=1.0, user-scalable=no&quot; /&gt;\n",
       "            &lt;style&gt;\n",
       "                #map_f5912ac383677db992f71529229fa80a {\n",
       "                    position: relative;\n",
       "                    width: 100.0%;\n",
       "                    height: 100.0%;\n",
       "                    left: 0.0%;\n",
       "                    top: 0.0%;\n",
       "                }\n",
       "                .leaflet-container { font-size: 1rem; }\n",
       "            &lt;/style&gt;\n",
       "        \n",
       "    \n",
       "                    &lt;style&gt;\n",
       "                        .foliumtooltip {\n",
       "                            \n",
       "                        }\n",
       "                       .foliumtooltip table{\n",
       "                            margin: auto;\n",
       "                        }\n",
       "                        .foliumtooltip tr{\n",
       "                            text-align: left;\n",
       "                        }\n",
       "                        .foliumtooltip th{\n",
       "                            padding: 2px; padding-right: 8px;\n",
       "                        }\n",
       "                    &lt;/style&gt;\n",
       "            \n",
       "    \n",
       "                    &lt;style&gt;\n",
       "                        .foliumtooltip {\n",
       "                            \n",
       "                        }\n",
       "                       .foliumtooltip table{\n",
       "                            margin: auto;\n",
       "                        }\n",
       "                        .foliumtooltip tr{\n",
       "                            text-align: left;\n",
       "                        }\n",
       "                        .foliumtooltip th{\n",
       "                            padding: 2px; padding-right: 8px;\n",
       "                        }\n",
       "                    &lt;/style&gt;\n",
       "            \n",
       "&lt;/head&gt;\n",
       "&lt;body&gt;\n",
       "    \n",
       "    \n",
       "            &lt;div class=&quot;folium-map&quot; id=&quot;map_f5912ac383677db992f71529229fa80a&quot; &gt;&lt;/div&gt;\n",
       "        \n",
       "&lt;/body&gt;\n",
       "&lt;script&gt;\n",
       "    \n",
       "    \n",
       "            var map_f5912ac383677db992f71529229fa80a = L.map(\n",
       "                &quot;map_f5912ac383677db992f71529229fa80a&quot;,\n",
       "                {\n",
       "                    center: [-4.038333, 21.758664],\n",
       "                    crs: L.CRS.EPSG3857,\n",
       "                    zoom: 4,\n",
       "                    zoomControl: true,\n",
       "                    preferCanvas: false,\n",
       "                }\n",
       "            );\n",
       "            L.control.scale().addTo(map_f5912ac383677db992f71529229fa80a);\n",
       "\n",
       "            \n",
       "\n",
       "        \n",
       "    \n",
       "            var tile_layer_2614b10a3f3aabca7a54d54aa52cb4f5 = L.tileLayer(\n",
       "                &quot;https://a.basemaps.cartocdn.com/light_all/{z}/{x}/{y}{r}.png&quot;,\n",
       "                {&quot;attribution&quot;: &quot;\\u0026copy; \\u003ca href=\\&quot;https://www.openstreetmap.org/copyright\\&quot;\\u003eOpenStreetMap\\u003c/a\\u003e contributors \\u0026copy; \\u003ca href=\\&quot;https://carto.com/attributions\\&quot;\\u003eCARTO\\u003c/a\\u003e&quot;, &quot;detectRetina&quot;: false, &quot;maxNativeZoom&quot;: 20, &quot;maxZoom&quot;: 20, &quot;minZoom&quot;: 0, &quot;noWrap&quot;: false, &quot;opacity&quot;: 1, &quot;subdomains&quot;: &quot;abc&quot;, &quot;tms&quot;: false}\n",
       "            ).addTo(map_f5912ac383677db992f71529229fa80a);\n",
       "        \n",
       "    \n",
       "        function geo_json_5cb098f9252485e1a5a455f40d8b387b_styler(feature) {\n",
       "            switch(feature.id) {\n",
       "                default:\n",
       "                    return {&quot;color&quot;: &quot;red&quot;, &quot;fillColor&quot;: &quot;red&quot;, &quot;fillOpacity&quot;: 0.5, &quot;weight&quot;: 2};\n",
       "            }\n",
       "        }\n",
       "        function geo_json_5cb098f9252485e1a5a455f40d8b387b_highlighter(feature) {\n",
       "            switch(feature.id) {\n",
       "                default:\n",
       "                    return {&quot;fillOpacity&quot;: 0.75};\n",
       "            }\n",
       "        }\n",
       "        function geo_json_5cb098f9252485e1a5a455f40d8b387b_pointToLayer(feature, latlng) {\n",
       "            var opts = {&quot;bubblingMouseEvents&quot;: true, &quot;color&quot;: &quot;#3388ff&quot;, &quot;dashArray&quot;: null, &quot;dashOffset&quot;: null, &quot;fill&quot;: true, &quot;fillColor&quot;: &quot;#3388ff&quot;, &quot;fillOpacity&quot;: 0.2, &quot;fillRule&quot;: &quot;evenodd&quot;, &quot;lineCap&quot;: &quot;round&quot;, &quot;lineJoin&quot;: &quot;round&quot;, &quot;opacity&quot;: 1.0, &quot;radius&quot;: 2, &quot;stroke&quot;: true, &quot;weight&quot;: 3};\n",
       "            \n",
       "            let style = geo_json_5cb098f9252485e1a5a455f40d8b387b_styler(feature)\n",
       "            Object.assign(opts, style)\n",
       "            \n",
       "            return new L.CircleMarker(latlng, opts)\n",
       "        }\n",
       "\n",
       "        function geo_json_5cb098f9252485e1a5a455f40d8b387b_onEachFeature(feature, layer) {\n",
       "            layer.on({\n",
       "                mouseout: function(e) {\n",
       "                    if(typeof e.target.setStyle === &quot;function&quot;){\n",
       "                        geo_json_5cb098f9252485e1a5a455f40d8b387b.resetStyle(e.target);\n",
       "                    }\n",
       "                },\n",
       "                mouseover: function(e) {\n",
       "                    if(typeof e.target.setStyle === &quot;function&quot;){\n",
       "                        const highlightStyle = geo_json_5cb098f9252485e1a5a455f40d8b387b_highlighter(e.target.feature)\n",
       "                        e.target.setStyle(highlightStyle);\n",
       "                    }\n",
       "                },\n",
       "            });\n",
       "        };\n",
       "        var geo_json_5cb098f9252485e1a5a455f40d8b387b = L.geoJson(null, {\n",
       "                onEachFeature: geo_json_5cb098f9252485e1a5a455f40d8b387b_onEachFeature,\n",
       "            \n",
       "                style: geo_json_5cb098f9252485e1a5a455f40d8b387b_styler,\n",
       "                pointToLayer: geo_json_5cb098f9252485e1a5a455f40d8b387b_pointToLayer\n",
       "        });\n",
       "\n",
       "        function geo_json_5cb098f9252485e1a5a455f40d8b387b_add (data) {\n",
       "            geo_json_5cb098f9252485e1a5a455f40d8b387b\n",
       "                .addData(data)\n",
       "                .addTo(map_f5912ac383677db992f71529229fa80a);\n",
       "        }\n",
       "            geo_json_5cb098f9252485e1a5a455f40d8b387b_add({&quot;bbox&quot;: [13.449999809265137, -11.680000305175781, 27.549999237060547, 0.5192849040031433], &quot;features&quot;: [{&quot;bbox&quot;: [25.196147918701172, 0.5192849040031433, 25.196147918701172, 0.5192849040031433], &quot;geometry&quot;: {&quot;coordinates&quot;: [25.196147918701172, 0.5192849040031433], &quot;type&quot;: &quot;Point&quot;}, &quot;id&quot;: &quot;258&quot;, &quot;properties&quot;: {&quot;CAPITAL&quot;: &quot;N&quot;, &quot;COUNTRY&quot;: &quot;DR Congo&quot;, &quot;NAME&quot;: &quot;Kisangani&quot;, &quot;__folium_color&quot;: &quot;red&quot;}, &quot;type&quot;: &quot;Feature&quot;}, {&quot;bbox&quot;: [22.40277862548828, -5.892210960388184, 22.40277862548828, -5.892210960388184], &quot;geometry&quot;: {&quot;coordinates&quot;: [22.40277862548828, -5.892210960388184], &quot;type&quot;: &quot;Point&quot;}, &quot;id&quot;: &quot;263&quot;, &quot;properties&quot;: {&quot;CAPITAL&quot;: &quot;N&quot;, &quot;COUNTRY&quot;: &quot;DR Congo&quot;, &quot;NAME&quot;: &quot;Kananga&quot;, &quot;__folium_color&quot;: &quot;red&quot;}, &quot;type&quot;: &quot;Feature&quot;}, {&quot;bbox&quot;: [15.469293594360352, -4.388674736022949, 15.469293594360352, -4.388674736022949], &quot;geometry&quot;: {&quot;coordinates&quot;: [15.469293594360352, -4.388674736022949], &quot;type&quot;: &quot;Point&quot;}, &quot;id&quot;: &quot;313&quot;, &quot;properties&quot;: {&quot;CAPITAL&quot;: &quot;Y&quot;, &quot;COUNTRY&quot;: &quot;DR Congo&quot;, &quot;NAME&quot;: &quot;Kinshasa&quot;, &quot;__folium_color&quot;: &quot;red&quot;}, &quot;type&quot;: &quot;Feature&quot;}, {&quot;bbox&quot;: [13.449999809265137, -5.809999942779541, 13.449999809265137, -5.809999942779541], &quot;geometry&quot;: {&quot;coordinates&quot;: [13.449999809265137, -5.809999942779541], &quot;type&quot;: &quot;Point&quot;}, &quot;id&quot;: &quot;344&quot;, &quot;properties&quot;: {&quot;CAPITAL&quot;: &quot;N&quot;, &quot;COUNTRY&quot;: &quot;DR Congo&quot;, &quot;NAME&quot;: &quot;Matadi&quot;, &quot;__folium_color&quot;: &quot;red&quot;}, &quot;type&quot;: &quot;Feature&quot;}, {&quot;bbox&quot;: [19.0, -7.329999923706055, 19.0, -7.329999923706055], &quot;geometry&quot;: {&quot;coordinates&quot;: [19.0, -7.329999923706055], &quot;type&quot;: &quot;Point&quot;}, &quot;id&quot;: &quot;348&quot;, &quot;properties&quot;: {&quot;CAPITAL&quot;: &quot;N&quot;, &quot;COUNTRY&quot;: &quot;DR Congo&quot;, &quot;NAME&quot;: &quot;Kahemba&quot;, &quot;__folium_color&quot;: &quot;red&quot;}, &quot;type&quot;: &quot;Feature&quot;}, {&quot;bbox&quot;: [18.459999084472656, 0.05000000074505806, 18.459999084472656, 0.05000000074505806], &quot;geometry&quot;: {&quot;coordinates&quot;: [18.459999084472656, 0.05000000074505806], &quot;type&quot;: &quot;Point&quot;}, &quot;id&quot;: &quot;395&quot;, &quot;properties&quot;: {&quot;CAPITAL&quot;: &quot;N&quot;, &quot;COUNTRY&quot;: &quot;DR Congo&quot;, &quot;NAME&quot;: &quot;Mbandaka&quot;, &quot;__folium_color&quot;: &quot;red&quot;}, &quot;type&quot;: &quot;Feature&quot;}, {&quot;bbox&quot;: [27.549999237060547, -11.680000305175781, 27.549999237060547, -11.680000305175781], &quot;geometry&quot;: {&quot;coordinates&quot;: [27.549999237060547, -11.680000305175781], &quot;type&quot;: &quot;Point&quot;}, &quot;id&quot;: &quot;535&quot;, &quot;properties&quot;: {&quot;CAPITAL&quot;: &quot;N&quot;, &quot;COUNTRY&quot;: &quot;DR Congo&quot;, &quot;NAME&quot;: &quot;Lumumbashi&quot;, &quot;__folium_color&quot;: &quot;red&quot;}, &quot;type&quot;: &quot;Feature&quot;}], &quot;type&quot;: &quot;FeatureCollection&quot;});\n",
       "\n",
       "        \n",
       "    \n",
       "    geo_json_5cb098f9252485e1a5a455f40d8b387b.bindTooltip(\n",
       "    function(layer){\n",
       "    let div = L.DomUtil.create(&#x27;div&#x27;);\n",
       "    \n",
       "    let handleObject = feature=&gt;typeof(feature)==&#x27;object&#x27; ? JSON.stringify(feature) : feature;\n",
       "    let fields = [&quot;NAME&quot;, &quot;COUNTRY&quot;, &quot;CAPITAL&quot;];\n",
       "    let aliases = [&quot;NAME&quot;, &quot;COUNTRY&quot;, &quot;CAPITAL&quot;];\n",
       "    let table = &#x27;&lt;table&gt;&#x27; +\n",
       "        String(\n",
       "        fields.map(\n",
       "        (v,i)=&gt;\n",
       "        `&lt;tr&gt;\n",
       "            &lt;th&gt;${aliases[i]}&lt;/th&gt;\n",
       "            \n",
       "            &lt;td&gt;${handleObject(layer.feature.properties[v])}&lt;/td&gt;\n",
       "        &lt;/tr&gt;`).join(&#x27;&#x27;))\n",
       "    +&#x27;&lt;/table&gt;&#x27;;\n",
       "    div.innerHTML=table;\n",
       "    \n",
       "    return div\n",
       "    }\n",
       "    ,{&quot;className&quot;: &quot;foliumtooltip&quot;, &quot;sticky&quot;: true});\n",
       "                     \n",
       "    \n",
       "        function geo_json_4d43317d6c5359f93287bc6e941ebe66_styler(feature) {\n",
       "            switch(feature.id) {\n",
       "                default:\n",
       "                    return {&quot;color&quot;: &quot;blue&quot;, &quot;fillColor&quot;: &quot;blue&quot;, &quot;fillOpacity&quot;: 0.5, &quot;weight&quot;: 2};\n",
       "            }\n",
       "        }\n",
       "        function geo_json_4d43317d6c5359f93287bc6e941ebe66_highlighter(feature) {\n",
       "            switch(feature.id) {\n",
       "                default:\n",
       "                    return {&quot;fillOpacity&quot;: 0.75};\n",
       "            }\n",
       "        }\n",
       "        function geo_json_4d43317d6c5359f93287bc6e941ebe66_pointToLayer(feature, latlng) {\n",
       "            var opts = {&quot;bubblingMouseEvents&quot;: true, &quot;color&quot;: &quot;#3388ff&quot;, &quot;dashArray&quot;: null, &quot;dashOffset&quot;: null, &quot;fill&quot;: true, &quot;fillColor&quot;: &quot;#3388ff&quot;, &quot;fillOpacity&quot;: 0.2, &quot;fillRule&quot;: &quot;evenodd&quot;, &quot;lineCap&quot;: &quot;round&quot;, &quot;lineJoin&quot;: &quot;round&quot;, &quot;opacity&quot;: 1.0, &quot;radius&quot;: 2, &quot;stroke&quot;: true, &quot;weight&quot;: 3};\n",
       "            \n",
       "            let style = geo_json_4d43317d6c5359f93287bc6e941ebe66_styler(feature)\n",
       "            Object.assign(opts, style)\n",
       "            \n",
       "            return new L.CircleMarker(latlng, opts)\n",
       "        }\n",
       "\n",
       "        function geo_json_4d43317d6c5359f93287bc6e941ebe66_onEachFeature(feature, layer) {\n",
       "            layer.on({\n",
       "                mouseout: function(e) {\n",
       "                    if(typeof e.target.setStyle === &quot;function&quot;){\n",
       "                        geo_json_4d43317d6c5359f93287bc6e941ebe66.resetStyle(e.target);\n",
       "                    }\n",
       "                },\n",
       "                mouseover: function(e) {\n",
       "                    if(typeof e.target.setStyle === &quot;function&quot;){\n",
       "                        const highlightStyle = geo_json_4d43317d6c5359f93287bc6e941ebe66_highlighter(e.target.feature)\n",
       "                        e.target.setStyle(highlightStyle);\n",
       "                    }\n",
       "                },\n",
       "            });\n",
       "        };\n",
       "        var geo_json_4d43317d6c5359f93287bc6e941ebe66 = L.geoJson(null, {\n",
       "                onEachFeature: geo_json_4d43317d6c5359f93287bc6e941ebe66_onEachFeature,\n",
       "            \n",
       "                style: geo_json_4d43317d6c5359f93287bc6e941ebe66_styler,\n",
       "                pointToLayer: geo_json_4d43317d6c5359f93287bc6e941ebe66_pointToLayer\n",
       "        });\n",
       "\n",
       "        function geo_json_4d43317d6c5359f93287bc6e941ebe66_add (data) {\n",
       "            geo_json_4d43317d6c5359f93287bc6e941ebe66\n",
       "                .addData(data)\n",
       "                .addTo(map_f5912ac383677db992f71529229fa80a);\n",
       "        }\n",
       "            geo_json_4d43317d6c5359f93287bc6e941ebe66_add({&quot;bbox&quot;: [13.180227804924561, -11.817964553833008, 31.21055344558188, 5.095649242401123], &quot;features&quot;: [{&quot;bbox&quot;: [24.293716310460688, -11.318244934082031, 24.501815795898438, -11.02685546875], &quot;geometry&quot;: {&quot;coordinates&quot;: [[24.293716310460688, -11.047272074784798], [24.501815795898438, -11.02685546875], [24.475147247314453, -11.318244934082031]], &quot;type&quot;: &quot;LineString&quot;}, &quot;id&quot;: &quot;96&quot;, &quot;properties&quot;: {&quot;NAME&quot;: &quot;Zambezi&quot;, &quot;SYSTEM&quot;: null, &quot;__folium_color&quot;: &quot;blue&quot;}, &quot;type&quot;: &quot;Feature&quot;}, {&quot;bbox&quot;: [25.610145568847656, -11.817964553833008, 27.283477783203125, -5.574653625488281], &quot;geometry&quot;: {&quot;coordinates&quot;: [[26.656253814697266, -11.817964553833008], [26.610145568847656, -11.662408828735352], [26.079036712646484, -11.54741096496582], [25.810420989990234, -11.206855773925781], [25.95180892944336, -10.59074592590332], [25.613201141357422, -10.364912033081055], [25.610145568847656, -10.047966003417969], [25.779033660888672, -9.804632186889648], [25.784038543701172, -9.150745391845703], [26.13875961303711, -9.141855239868164], [26.224315643310547, -8.689634323120117], [26.500701904296875, -8.518522262573242], [26.538761138916016, -8.244077682495117], [27.000144958496094, -8.100746154785156], [27.179588317871094, -7.866855621337891], [27.00375747680664, -7.6101884841918945], [27.283477783203125, -7.083244323730469], [27.13650131225586, -5.574653625488281]], &quot;type&quot;: &quot;LineString&quot;}, &quot;id&quot;: &quot;34&quot;, &quot;properties&quot;: {&quot;NAME&quot;: &quot;Lualaba&quot;, &quot;SYSTEM&quot;: &quot;Congo&quot;, &quot;__folium_color&quot;: &quot;blue&quot;}, &quot;type&quot;: &quot;Feature&quot;}, {&quot;bbox&quot;: [27.13650131225586, -8.194736029647315, 30.761653436241037, -3.973674261884245], &quot;geometry&quot;: {&quot;coordinates&quot;: [[[29.397869110107422, -5.846957206726074], [29.589595794677734, -5.565188407897949], [29.308208465576172, -5.0124101638793945], [29.341180656709806, -4.8173892851198445]], [[29.35305374043429, -4.747163463240127], [29.412651141973523, -4.3946622426551345]], [[29.37830814229618, -4.133557459039869], [29.256263732910156, -4.244076728820801], [29.286553369669214, -3.973674261884245]], [[30.74113666055028, -8.194736029647315], [30.761653436241037, -8.153858354766399]], [[30.707045681932307, -7.994576861758206], [30.48432159423828, -7.779355049133301], [30.327930450439453, -7.170187950134277], [29.709320068359375, -6.634077072143555], [29.631982484823435, -6.43862431551637]], [[29.51737214439608, -6.1489733340618455], [29.397869110107422, -5.846957206726074]], [[29.397869110107422, -5.846957206726074], [28.634868621826172, -5.879354476928711], [28.19931411743164, -5.6101884841918945], [27.505149841308594, -5.951299667358398], [27.13650131225586, -5.574653625488281]]], &quot;type&quot;: &quot;MultiLineString&quot;}, &quot;id&quot;: &quot;35&quot;, &quot;properties&quot;: {&quot;NAME&quot;: &quot;Lukaga&quot;, &quot;SYSTEM&quot;: &quot;Congo&quot;, &quot;__folium_color&quot;: &quot;blue&quot;}, &quot;type&quot;: &quot;Feature&quot;}, {&quot;bbox&quot;: [13.180227804924561, -5.856432996467747, 27.235149383544922, 2.253999948501587], &quot;geometry&quot;: {&quot;coordinates&quot;: [[[17.686010360717773, -0.7241356372833252], [17.658376693725586, -0.8282783031463623], [17.451820373535156, -1.0202032327651978], [17.215662002563477, -1.1233124732971191], [16.85186767578125, -1.3924564123153687], [16.67100693205573, -1.592716755542111]], [[16.496377460387293, -1.9009428026475892], [16.455747604370117, -1.9732555150985718], [16.30158805847168, -2.3110671043395996], [16.21468734741211, -2.8328282833099365], [16.19034901192037, -2.961896862452676]], [[16.193620164254803, -3.085116698555135], [16.235858917236328, -3.3348724842071533], [16.19724464416504, -3.65293550491333], [15.902163538272031, -3.923082327518462]], [[15.860368576931029, -3.9613456245635463], [15.735980987548828, -4.075222492218018], [15.57208251953125, -4.1778998374938965], [15.1532564163208, -4.542730808258057], [14.904242515563965, -4.722195625305176], [14.87444286660025, -4.739344369195095]], [[14.567273130920166, -4.866235799107747], [14.457860141909496, -4.86120217195449]], [[14.41357989801154, -4.859165025907636], [14.375420570373535, -4.857409477233887], [14.054315567016602, -5.251021385192871], [13.751531600952148, -5.279632568359375], [13.789314270019531, -5.62685489654541], [13.392086029052734, -5.791577339172363], [13.180227804924561, -5.856432996467747]], [[17.686010360717773, -0.7241356372833252], [18.37310028076172, -0.006342932116240263], [18.636226654052734, 1.0112873315811157], [19.3780517578125, 1.6421529054641724], [20.332275390625, 2.0035555362701416], [22.32315444946289, 2.253999948501587], [23.217147827148438, 1.9369810819625854], [23.882888793945312, 1.1951576471328735], [25.70819854736328, 0.29647916555404663], [25.649314880371094, -0.5643541216850281], [26.070465087890625, -1.3245521783828735], [25.972923278808594, -2.047410249710083], [26.213760375976562, -3.9957435131073], [27.070453643798828, -4.710135459899902], [27.235149383544922, -5.235743522644043], [27.13650131225586, -5.574653625488281]]], &quot;type&quot;: &quot;MultiLineString&quot;}, &quot;id&quot;: &quot;13&quot;, &quot;properties&quot;: {&quot;NAME&quot;: &quot;Congo&quot;, &quot;SYSTEM&quot;: &quot;Congo&quot;, &quot;__folium_color&quot;: &quot;blue&quot;}, &quot;type&quot;: &quot;Feature&quot;}, {&quot;bbox&quot;: [17.686010360717773, -0.7241356372833252, 30.650978088378906, 5.095649242401123], &quot;geometry&quot;: {&quot;coordinates&quot;: [[[30.650978088378906, 2.2934224605560303], [30.55264663696289, 2.940922498703003], [29.727371215820312, 3.1598117351531982], [29.697086334228516, 3.358978509902954], [29.54486846923828, 3.344533681869507], [29.29681396484375, 3.6720340251922607], [28.49597930908203, 3.6611998081207275], [28.244033813476562, 3.8078668117523193], [27.695144653320312, 3.7073118686676025], [27.488201141357422, 3.915644884109497], [27.273204803466797, 3.5739786624908447], [27.052921295166016, 3.5689785480499268], [26.852371215820312, 4.079533576965332], [26.32797622680664, 3.7189366817474365], [26.077091217041016, 3.7556445598602295], [26.003761291503906, 3.58703351020813], [25.209632873535156, 3.4606406688690186], [23.829593658447266, 3.913978338241577], [22.975982666015625, 3.8914778232574463], [22.66604995727539, 4.173341274261475], [22.621057510375977, 4.082869529724121], [22.541749954223633, 4.012476444244385], [22.275667190551758, 4.042673587799072], [21.48938974131464, 4.250565296414004]], [[21.166591583047982, 4.304499483073365], [20.76572608947754, 4.357845306396484], [20.66850606203053, 4.419101135808431]], [[20.45790718617683, 4.617718748331262], [20.31968315594681, 4.780264135640566]], [[19.85363363955117, 5.067920158918891], [19.78193473815918, 5.095649242401123], [19.565994262695312, 5.068941116333008], [19.328205108642578, 4.934055805206299], [19.169469833374023, 4.780569553375244], [18.81600570678711, 4.339901924133301], [18.772663116455078, 4.206165313720703], [18.815643310546875, 4.003032207489014], [18.808353424072266, 3.8440775871276855], [18.779563903808594, 3.5769569873809814], [18.707651138305664, 3.5510993003845215], [18.765207290649414, 3.462460994720459], [18.750869750976562, 3.3924543857574463], [18.571754455566406, 2.851109504699707], [18.32096290588379, 2.4746057987213135], [18.163944244384766, 2.1050055027008057], [18.121746063232422, 1.8568600416183472], [18.077885605518777, 1.6427060913419818]], [[18.045397772042012, 1.4517593744650337], [17.963071823120117, 0.6037315726280212], [17.94597215933651, 0.5132132480471494]], [[17.904163385257892, 0.29189543558791986], [17.849021911621094, 0.0], [17.797178268432617, -0.27444055676460266], [17.72088050842285, -0.5927255153656006], [17.686010360717773, -0.7241356372833252]]], &quot;type&quot;: &quot;MultiLineString&quot;}, &quot;id&quot;: &quot;84&quot;, &quot;properties&quot;: {&quot;NAME&quot;: &quot;Ubangi&quot;, &quot;SYSTEM&quot;: &quot;Congo&quot;, &quot;__folium_color&quot;: &quot;blue&quot;}, &quot;type&quot;: &quot;Feature&quot;}, {&quot;bbox&quot;: [30.82790056496044, 1.6029971297698362, 31.21055344558188, 1.9886982330460354], &quot;geometry&quot;: {&quot;coordinates&quot;: [[30.82790056496044, 1.6029971297698362], [31.21055344558188, 1.9886982330460354]], &quot;type&quot;: &quot;LineString&quot;}, &quot;id&quot;: &quot;90&quot;, &quot;properties&quot;: {&quot;NAME&quot;: &quot;White Nile&quot;, &quot;SYSTEM&quot;: &quot;Nile&quot;, &quot;__folium_color&quot;: &quot;blue&quot;}, &quot;type&quot;: &quot;Feature&quot;}], &quot;type&quot;: &quot;FeatureCollection&quot;});\n",
       "\n",
       "        \n",
       "    \n",
       "    geo_json_4d43317d6c5359f93287bc6e941ebe66.bindTooltip(\n",
       "    function(layer){\n",
       "    let div = L.DomUtil.create(&#x27;div&#x27;);\n",
       "    \n",
       "    let handleObject = feature=&gt;typeof(feature)==&#x27;object&#x27; ? JSON.stringify(feature) : feature;\n",
       "    let fields = [&quot;NAME&quot;, &quot;SYSTEM&quot;];\n",
       "    let aliases = [&quot;NAME&quot;, &quot;SYSTEM&quot;];\n",
       "    let table = &#x27;&lt;table&gt;&#x27; +\n",
       "        String(\n",
       "        fields.map(\n",
       "        (v,i)=&gt;\n",
       "        `&lt;tr&gt;\n",
       "            &lt;th&gt;${aliases[i]}&lt;/th&gt;\n",
       "            \n",
       "            &lt;td&gt;${handleObject(layer.feature.properties[v])}&lt;/td&gt;\n",
       "        &lt;/tr&gt;`).join(&#x27;&#x27;))\n",
       "    +&#x27;&lt;/table&gt;&#x27;;\n",
       "    div.innerHTML=table;\n",
       "    \n",
       "    return div\n",
       "    }\n",
       "    ,{&quot;className&quot;: &quot;foliumtooltip&quot;, &quot;sticky&quot;: true});\n",
       "                     \n",
       "&lt;/script&gt;\n",
       "&lt;/html&gt;\" style=\"position:absolute;width:100%;height:100%;left:0;top:0;border:none !important;\" allowfullscreen webkitallowfullscreen mozallowfullscreen></iframe></div></div>"
      ],
      "text/plain": [
       "<folium.folium.Map at 0x2345060a510>"
      ]
     },
     "execution_count": 41,
     "metadata": {},
     "output_type": "execute_result"
    }
   ],
   "source": [
    "# Primero, hay que invocar a folium\n",
    "import folium\n",
    "\n",
    "# Después, se plottea, con las coordenadas que se registraron previamente\n",
    "m = cities_DRC.explore(location=CongoDR_Coord,\n",
    "                   zoom_start=4,\n",
    "                   tiles='CartoDB positron',\n",
    "                   color='red',\n",
    "                   name=\"cities\") #optional\n",
    "m = rivers_DRC.explore(m=m, color=\"blue\",\n",
    "                   name=\"rivers\")\n",
    "m"
   ]
  },
  {
   "cell_type": "code",
   "execution_count": 46,
   "id": "2556bb48-c227-445c-80fc-c8b6d2d4d8c7",
   "metadata": {},
   "outputs": [],
   "source": [
    "# Para guardar lo obtenido, es una opción usar un sistema de referencia de coordenadas que esté proyectado, \n",
    "# de forma que se puedan medir distancias y demás (Antes estaba en geográfico, que es como un globo terráqueo, en proyectado se aplana)\n",
    "# Se encontró uno adecuado aquí: https://epsg.io/?q=congo&page=2\n",
    "# Entonces, se cambia para los tres mapas que se tiene\n",
    "\n",
    "CongoDR=countries[countries.COUNTRY=='Democratic Republic of the Congo']\n",
    "CongoDR_4282=CongoDR.to_crs(4282)\n",
    "\n",
    "cities_DRC=cities[cities.COUNTRY=='DR Congo']\n",
    "cities_4282=cities_DRC.to_crs(CongoDR_4282.crs)\n",
    "\n",
    "rivers_4282=rivers.to_crs(CongoDR_4282.crs)\n",
    "rivers_4282=gpd.clip(gdf=rivers_4282,mask=CongoDR_4282)"
   ]
  },
  {
   "cell_type": "code",
   "execution_count": 48,
   "id": "6328cc5a-e068-47c8-89df-45ae34cc6967",
   "metadata": {},
   "outputs": [
    {
     "data": {
      "image/png": "[encoded data removed]",
      "text/plain": [
       "<Figure size 360x360 with 1 Axes>"
      ]
     },
     "metadata": {
      "needs_background": "light"
     },
     "output_type": "display_data"
    }
   ],
   "source": [
    "# Para exportar, se puede grabar la imagen del plot en una carpeta del repositorio\n",
    "\n",
    "import matplotlib.pyplot as plt\n",
    "\n",
    "base = CongoDR_4282.plot(facecolor=\"red\", edgecolor='black', linewidth=0.4,figsize=(5,5))\n",
    "map2=cities_4282.plot(marker='+', color='black', markersize=15,ax=base)\n",
    "mapEnd=rivers_4282.plot(edgecolor='blue', linewidth=0.5,ax=base)\n",
    "plt.savefig(os.path.join(\"figures\",'mapEnd.jpg'))"
   ]
  },
  {
   "cell_type": "code",
   "execution_count": 49,
   "id": "3291c12f-7150-4a28-8cc9-b161f5a9e14e",
   "metadata": {},
   "outputs": [],
   "source": [
    "# Después, se exportan los mapas iniciales como un archivo gpkg\n",
    "\n",
    "countries.to_file(os.path.join(\"maps\",\"worldMaps.gpkg\"), layer='countries', driver=\"GPKG\")\n",
    "cities.to_file(os.path.join(\"maps\",\"worldMaps.gpkg\"), layer='cities', driver=\"GPKG\")\n",
    "rivers.to_file(os.path.join(\"maps\",\"worldMaps.gpkg\"), layer='rivers', driver=\"GPKG\")"
   ]
  },
  {
   "cell_type": "code",
   "execution_count": null,
   "id": "d56e34fc-2856-4083-aeb8-8e45ed56788b",
   "metadata": {},
   "outputs": [],
   "source": []
  }
 ],
 "metadata": {
  "kernelspec": {
   "display_name": "Python 3 (ipykernel)",
   "language": "python",
   "name": "python3"
  },
  "language_info": {
   "codemirror_mode": {
    "name": "ipython",
    "version": 3
   },
   "file_extension": ".py",
   "mimetype": "text/x-python",
   "name": "python",
   "nbconvert_exporter": "python",
   "pygments_lexer": "ipython3",
   "version": "3.12.0"
  }
 },
 "nbformat": 4,
 "nbformat_minor": 5
}
